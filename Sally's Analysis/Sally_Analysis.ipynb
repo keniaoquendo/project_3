{
 "cells": [
  {
   "cell_type": "code",
   "execution_count": 1,
   "metadata": {},
   "outputs": [],
   "source": [
    "# Dependencies\n",
    "import random\n",
    "import json\n",
    "import requests\n",
    "from pprint import pprint\n",
    "import pandas as pd\n",
    "from pathlib import Path"
   ]
  },
  {
   "cell_type": "code",
   "execution_count": 21,
   "metadata": {},
   "outputs": [],
   "source": [
    "# load and read csv file\n",
    "animals = Path(\"../Resources/cleaned_animals.csv\")\n",
    "# Read School and Student Data File and store into Pandas DataFrames\n",
    "animals_df = pd.read_csv(animals)"
   ]
  },
  {
   "cell_type": "code",
   "execution_count": 22,
   "metadata": {},
   "outputs": [
    {
     "data": {
      "text/html": [
       "<div>\n",
       "<style scoped>\n",
       "    .dataframe tbody tr th:only-of-type {\n",
       "        vertical-align: middle;\n",
       "    }\n",
       "\n",
       "    .dataframe tbody tr th {\n",
       "        vertical-align: top;\n",
       "    }\n",
       "\n",
       "    .dataframe thead th {\n",
       "        text-align: right;\n",
       "    }\n",
       "</style>\n",
       "<table border=\"1\" class=\"dataframe\">\n",
       "  <thead>\n",
       "    <tr style=\"text-align: right;\">\n",
       "      <th></th>\n",
       "      <th>Unnamed: 0</th>\n",
       "      <th>id</th>\n",
       "      <th>organization_id</th>\n",
       "      <th>name</th>\n",
       "      <th>type</th>\n",
       "      <th>age</th>\n",
       "      <th>gender</th>\n",
       "      <th>size</th>\n",
       "      <th>contact</th>\n",
       "      <th>url</th>\n",
       "    </tr>\n",
       "  </thead>\n",
       "  <tbody>\n",
       "    <tr>\n",
       "      <th>0</th>\n",
       "      <td>0</td>\n",
       "      <td>70490327</td>\n",
       "      <td>TX2305</td>\n",
       "      <td>Davon</td>\n",
       "      <td>Dog</td>\n",
       "      <td>Adult</td>\n",
       "      <td>Male</td>\n",
       "      <td>Large</td>\n",
       "      <td>{'email': 'rescue@throwadogabone.org', 'phone'...</td>\n",
       "      <td>https://www.petfinder.com/dog/davon-70490327/o...</td>\n",
       "    </tr>\n",
       "    <tr>\n",
       "      <th>1</th>\n",
       "      <td>1</td>\n",
       "      <td>70490328</td>\n",
       "      <td>MO486</td>\n",
       "      <td>Mack</td>\n",
       "      <td>Dog</td>\n",
       "      <td>Adult</td>\n",
       "      <td>Female</td>\n",
       "      <td>Extra Large</td>\n",
       "      <td>{'email': 'wonderweimsrescue@gmail.com', 'phon...</td>\n",
       "      <td>https://www.petfinder.com/dog/mack-70490328/mo...</td>\n",
       "    </tr>\n",
       "    <tr>\n",
       "      <th>2</th>\n",
       "      <td>2</td>\n",
       "      <td>70490326</td>\n",
       "      <td>MI812</td>\n",
       "      <td>Lahni! DNA tested!</td>\n",
       "      <td>Dog</td>\n",
       "      <td>Adult</td>\n",
       "      <td>Female</td>\n",
       "      <td>Large</td>\n",
       "      <td>{'email': 'misfitangels@gmail.com', 'phone': '...</td>\n",
       "      <td>https://www.petfinder.com/dog/lahni-dna-tested...</td>\n",
       "    </tr>\n",
       "    <tr>\n",
       "      <th>3</th>\n",
       "      <td>3</td>\n",
       "      <td>70490283</td>\n",
       "      <td>MS214</td>\n",
       "      <td>Jughead Jones</td>\n",
       "      <td>Dog</td>\n",
       "      <td>Baby</td>\n",
       "      <td>Male</td>\n",
       "      <td>Large</td>\n",
       "      <td>{'email': 'myjerichorfb@gmail.com', 'phone': '...</td>\n",
       "      <td>https://www.petfinder.com/dog/jughead-jones-70...</td>\n",
       "    </tr>\n",
       "    <tr>\n",
       "      <th>4</th>\n",
       "      <td>4</td>\n",
       "      <td>70490324</td>\n",
       "      <td>AZ57</td>\n",
       "      <td>Mona</td>\n",
       "      <td>Dog</td>\n",
       "      <td>Young</td>\n",
       "      <td>Female</td>\n",
       "      <td>Large</td>\n",
       "      <td>{'email': 'blackhathumane@gmail.com', 'phone':...</td>\n",
       "      <td>https://www.petfinder.com/dog/mona-70490324/nm...</td>\n",
       "    </tr>\n",
       "  </tbody>\n",
       "</table>\n",
       "</div>"
      ],
      "text/plain": [
       "   Unnamed: 0        id organization_id                 name type    age  \\\n",
       "0           0  70490327          TX2305                Davon  Dog  Adult   \n",
       "1           1  70490328           MO486                 Mack  Dog  Adult   \n",
       "2           2  70490326           MI812  Lahni! DNA tested!   Dog  Adult   \n",
       "3           3  70490283           MS214        Jughead Jones  Dog   Baby   \n",
       "4           4  70490324            AZ57                 Mona  Dog  Young   \n",
       "\n",
       "   gender         size                                            contact  \\\n",
       "0    Male        Large  {'email': 'rescue@throwadogabone.org', 'phone'...   \n",
       "1  Female  Extra Large  {'email': 'wonderweimsrescue@gmail.com', 'phon...   \n",
       "2  Female        Large  {'email': 'misfitangels@gmail.com', 'phone': '...   \n",
       "3    Male        Large  {'email': 'myjerichorfb@gmail.com', 'phone': '...   \n",
       "4  Female        Large  {'email': 'blackhathumane@gmail.com', 'phone':...   \n",
       "\n",
       "                                                 url  \n",
       "0  https://www.petfinder.com/dog/davon-70490327/o...  \n",
       "1  https://www.petfinder.com/dog/mack-70490328/mo...  \n",
       "2  https://www.petfinder.com/dog/lahni-dna-tested...  \n",
       "3  https://www.petfinder.com/dog/jughead-jones-70...  \n",
       "4  https://www.petfinder.com/dog/mona-70490324/nm...  "
      ]
     },
     "execution_count": 22,
     "metadata": {},
     "output_type": "execute_result"
    }
   ],
   "source": [
    "animals_df.head()"
   ]
  },
  {
   "cell_type": "code",
   "execution_count": 23,
   "metadata": {},
   "outputs": [
    {
     "data": {
      "text/plain": [
       "2272"
      ]
     },
     "execution_count": 23,
     "metadata": {},
     "output_type": "execute_result"
    }
   ],
   "source": [
    "len(animals_df)"
   ]
  },
  {
   "cell_type": "code",
   "execution_count": 24,
   "metadata": {},
   "outputs": [
    {
     "data": {
      "text/plain": [
       "2232"
      ]
     },
     "execution_count": 24,
     "metadata": {},
     "output_type": "execute_result"
    }
   ],
   "source": [
    "unique_id = animals_df[\"id\"].unique()\n",
    "len(unique_id)"
   ]
  },
  {
   "cell_type": "code",
   "execution_count": 25,
   "metadata": {},
   "outputs": [
    {
     "data": {
      "text/plain": [
       "0       True\n",
       "1       True\n",
       "2       True\n",
       "3       True\n",
       "4       True\n",
       "        ... \n",
       "2267    True\n",
       "2268    True\n",
       "2269    True\n",
       "2270    True\n",
       "2271    True\n",
       "Name: id, Length: 2272, dtype: bool"
      ]
     },
     "execution_count": 25,
     "metadata": {},
     "output_type": "execute_result"
    }
   ],
   "source": [
    "dup_animals_df = animals_df[\"id\"].duplicated()\n",
    "dup_animals_df.duplicated(keep = False)"
   ]
  },
  {
   "cell_type": "code",
   "execution_count": 26,
   "metadata": {},
   "outputs": [
    {
     "data": {
      "text/plain": [
       "array(['TX2305', 'MO486', 'MI812', 'MS214', 'AZ57', 'WA02', 'NC516',\n",
       "       'CA1750', 'TN147', 'CA2373', 'TX2584', 'CT142', 'CA2686', 'GA50',\n",
       "       'QC41', 'WA727', 'TX993', 'TX2467', 'ON580', 'MS231', 'KY519',\n",
       "       'IL559', 'CA2903', 'CA2599', 'MO122', 'CA2390', 'ON648', 'TX2579',\n",
       "       'IL507', 'PA1015', 'OK401', 'NY712', 'NE152', 'MN17', 'IL885',\n",
       "       'MA515', 'OR138', 'TN325', 'NC941', 'QC06', 'CA1061', 'FL599',\n",
       "       'FL221', 'CA912', 'CA2453', 'CA2246', 'MI85', 'AR50', 'NJ980',\n",
       "       'SC212', 'VA698', 'CA257', 'SC183', 'CA542', 'FL1562', 'CT602',\n",
       "       'CT625', 'NY1488', 'TN385', 'NC1007', 'FL611', 'CA765', 'NJ1024',\n",
       "       'IA04', 'WA650', 'VA96', 'TN74', 'AZ108', 'TN794', 'CA1902',\n",
       "       'VA877', 'ID04', 'TN1015', 'NJ811', 'SC331', 'TN807', 'TX62',\n",
       "       'CA449', 'MO798', 'VA629', 'CT561', 'FL1360', 'TX1257', 'OR141',\n",
       "       'KY269', 'OH166', 'GA52', 'IN287', 'NC119', 'LA449', 'OH1122',\n",
       "       'NJ833', 'KY550', 'SC592', 'FL1814', 'CA440', 'FL367', 'TN25',\n",
       "       'CA2713', 'FL1626', 'NC1192', 'TX2269', 'IL889', 'AR372', 'GA830',\n",
       "       'NJ736', 'NC1056', 'OR177', 'FL252', 'NY1570', 'NY245', 'MI340',\n",
       "       'SK14', 'VA28', 'ID100', 'KY167', 'IL976', 'NC1066', 'IL157',\n",
       "       'IL1014', 'CT571', 'MN441', 'OR79', 'CA1502', 'MO179', 'MD456',\n",
       "       'IA91', 'TX1936', 'TX2639', 'WI575', 'NJ620', 'IA260', 'CO563',\n",
       "       'NM137', 'OR07', 'TN360', 'WI507', 'IL899', 'KY463', 'IN427',\n",
       "       'CA759', 'IN85', 'VA894', 'DC28', 'TX54', 'FL758', 'CA674',\n",
       "       'TX1531', 'OH1281', 'AZ776', 'CA255', 'NC1018', 'AB150', 'LA448',\n",
       "       'NY33', 'TX2562', 'FL852', 'NY1417', 'CA229', 'TX1317', 'CA2515',\n",
       "       'NJ181', 'FL279', 'TX1135', 'IL786', 'FL216', 'CA2099', 'IN487',\n",
       "       'NC16', 'SC594', 'IN76', 'NY1447', 'WI264', 'ME03', 'NC1180',\n",
       "       'ME160', 'FL707', 'VA213', 'MA450', 'MI1108', 'MD454', 'FL1810',\n",
       "       'IA14', 'WI111', 'MS174', 'WA714', 'OK37', 'BC296', 'CO91',\n",
       "       'MN444', 'TX947', 'KY188', 'IL971', 'VA797', 'WA728', 'TX2483',\n",
       "       'FL1729', 'MO286', 'NY615', 'MI985', 'WA175', 'FL1844', 'CO512',\n",
       "       'NY990', 'FL1383', 'OR400', 'FL205', 'TX1475', 'NJ58', 'CA24',\n",
       "       'TX851', 'GA959', 'IN667', 'TN344', 'NY733', 'AL09', 'TX155',\n",
       "       'CA1282', 'TX677', 'GA739', 'TX478', 'AZ723', 'NY392', 'CT608',\n",
       "       'OK475', 'CA754', 'VT85', 'OK528', 'AL523', 'GA979', 'FL761',\n",
       "       'PA738', 'AK56', 'TN51', 'WA119', 'PA235', 'MI1134', 'TX2761',\n",
       "       'FL304', 'CA803', 'AB142', 'AZ101', 'FL668', 'AZ103', 'AZ779',\n",
       "       'GA261', 'VA75', 'IA269', 'AL121', 'UT206', 'OH771', 'TN977',\n",
       "       'KS64', 'CA2812', 'ID155', 'KY481', 'PA524', 'CA2483', 'PA1146',\n",
       "       'PA1144', 'CA2467', 'CA190', 'MN351', 'WI53', 'GA461', 'CA39',\n",
       "       'CA387', 'CO441', 'ON350', 'OH926', 'MI935', 'FL1569', 'NV188',\n",
       "       'NM59', 'TX2730', 'AZ110', 'MD492', 'OR23', 'AZ89', 'CA1571',\n",
       "       'FL464', 'ON676', 'NY1463', 'VA29', 'NY1398', 'FL185', 'AZ313',\n",
       "       'AB74', 'IN24', 'LA368', 'NM220', 'MI998', 'IN113', 'NC500',\n",
       "       'TX1528', 'VA596', 'MD423', 'FL655', 'CA2912', 'CA866', 'CA2430',\n",
       "       'NC290', 'NC590', 'MS24', 'TX403', 'CA595', 'CA1110', 'VA728',\n",
       "       'CA894', 'LA130', 'GA244', 'NC448', 'CA324', 'GA562', 'OK30',\n",
       "       'CA2271', 'NM13', 'NY08', 'GA247', 'CA611', 'NJ883', 'MA147',\n",
       "       'MO208', 'NJ763', 'TN268', 'TN478', 'CA2631', 'FL273', 'CA1164',\n",
       "       'CA1727', 'CA559', 'IA208', 'OK333', 'NV26', 'GA680', 'IN754',\n",
       "       'NY1262', 'VA857', 'PA110', 'RI23', 'NC371', 'MT89', 'OK546',\n",
       "       'CA1977', 'TN53', 'NY1183', 'AZ655', 'PA339', 'NY341', 'OK480',\n",
       "       'TX2549', 'CA1721', 'NJ699', 'CA710', 'NY1379', 'CA2667', 'NY1420',\n",
       "       'TX1218', 'CA1394', 'SC476', 'FL1892', 'MN241', 'OH342', 'NC461',\n",
       "       'IL782', 'MD477', 'PA516', 'CA1775', 'FL787', 'OH1339', 'GA821',\n",
       "       'RI79', 'WA783', 'NM225', 'TX1411', 'IA60', 'WA577', 'VA850',\n",
       "       'GA18', 'SC417', 'CA2604', 'BC93', 'OH263', 'CA78', 'CA2867',\n",
       "       'CA3146', 'MS206', 'TX2575', 'GA693', 'CT438', 'IL958', 'TX729',\n",
       "       'IA36', 'CT31', 'KS277', 'CA117', 'MN289', 'SC497', 'IL244',\n",
       "       'AZ599', 'SC572', 'OH82', 'WA70', 'TX46', 'FL806', 'TX198', 'AB36',\n",
       "       'ON525', 'TX2666', 'WA7', 'CA420', 'MT85', 'MS62', 'AK04', 'SC300',\n",
       "       'GA222', 'AL432', 'MN491', 'LA430', 'LA65', 'VA174', 'NY275',\n",
       "       'KY494', 'CO34', 'MO121', 'CO327', 'AZ453', 'CA3109', 'GA26',\n",
       "       'IN480', 'IN91', 'TX2679', 'CO27', 'TX359', 'GA788', 'CA2626',\n",
       "       'KY105', 'FL312', 'CA541', 'MS125', 'KY422', 'PA1005', 'TX2450',\n",
       "       'TX1739', 'TX2410', 'NY12', 'SC38', 'NY494', 'CA2940', 'CA1132',\n",
       "       'WI533', 'NV187', 'NC488', 'TX903', 'WA617', 'CA547', 'IN46',\n",
       "       'CA3092', 'IN301', 'NY187', 'MA393', 'GA469', 'NC1200', 'FL1770',\n",
       "       'CA914', 'MD514', 'GA960', 'MN76', 'MN507', 'CA1181', 'TX774',\n",
       "       'CO525', 'WI551', 'AL211', 'CT247', 'ID159', 'MI470', 'TN369',\n",
       "       'TX988', 'ON119', 'GA319', 'IL192', 'FL546', 'IL274', 'MS09',\n",
       "       'FL289', 'MN34', 'VA219', 'OR285', 'OH800', 'OK467', 'NC350',\n",
       "       'IN171', 'GA299', 'CA216', 'VA202', 'FL1861', 'MS26', 'MO781',\n",
       "       'IN64', 'CO324', 'MA131', 'SC42', 'KY289', 'IN02', 'MT74',\n",
       "       'NC1227', 'NJ769', 'NJ53', 'NJ47', 'KS47', 'WV28', 'KY216',\n",
       "       'IN430', 'CA2024', 'FL1828', 'KY523', 'VA176', 'FL1399', 'NJ376',\n",
       "       'CA1534', 'IL913', 'VA88', 'TX309', 'TX38', 'TX112', 'OH177',\n",
       "       'UT28', 'CA2661', 'VA126', 'MI296', 'GA335', 'IN190', 'TX571',\n",
       "       'IN94', 'NY359', 'GA926', 'GA423', 'GA973', 'NJ01', 'IN32',\n",
       "       'NH170', 'NH31', 'OH317', 'CO350', 'CA15', 'AL43', 'AZ20', 'FL275',\n",
       "       'PA86', 'ON578', 'TX236', 'NE73', 'FL69', 'NJ20', 'FL364', 'CA764',\n",
       "       'CO52', 'WV13', 'NE19', 'CA3073', 'NY1545', 'CO573', 'IL868',\n",
       "       'WA07', 'NY868', 'FL1500', 'WI86', 'OH160', 'CA30', 'WV48',\n",
       "       'TX2063', 'CA3100', 'TX487', 'TX1239', 'MO228', 'FL170', 'TN313',\n",
       "       'OH1232', 'WI488', 'GA529', 'AR370', 'TN850', 'GA170', 'MO678',\n",
       "       'WV46', 'TX959', 'MA29', 'CA3186', 'WI523', 'CA766', 'FL233',\n",
       "       'NH25', 'TX1633', 'IL496', 'GA612', 'TX2260', 'OH541', 'MD247',\n",
       "       'UT117', 'TX252', 'CA960', 'CA457', 'VA492', 'TN671', 'NJ02',\n",
       "       'TX2018', 'TN172', 'VA276', 'TX1918', 'FL1598', 'CO138', 'NM41',\n",
       "       'FL1223', 'NV215', 'KS07', 'CA348', 'FL286', 'TN61', 'OK204',\n",
       "       'MA243', 'KY102', 'CA1527', 'KY368', 'OH650', 'CA3204', 'NC132',\n",
       "       'IA194', 'TX1754', 'OH1175', 'IL173', 'NV36', 'CO125', 'GA70',\n",
       "       'TX2471', 'CA738', 'ID49', 'WA519', 'FL47', 'GA803', 'WA780',\n",
       "       'KS283'], dtype=object)"
      ]
     },
     "execution_count": 26,
     "metadata": {},
     "output_type": "execute_result"
    }
   ],
   "source": [
    "unique_org_count = animals_df[\"organization_id\"].unique()\n",
    "unique_org_count"
   ]
  },
  {
   "cell_type": "code",
   "execution_count": 27,
   "metadata": {},
   "outputs": [
    {
     "data": {
      "text/plain": [
       "642"
      ]
     },
     "execution_count": 27,
     "metadata": {},
     "output_type": "execute_result"
    }
   ],
   "source": [
    "\n",
    "org_count = len(unique_org_count)\n",
    "org_count\n"
   ]
  },
  {
   "cell_type": "code",
   "execution_count": 28,
   "metadata": {},
   "outputs": [
    {
     "data": {
      "text/plain": [
       "array(['Dog', 'Cat'], dtype=object)"
      ]
     },
     "execution_count": 28,
     "metadata": {},
     "output_type": "execute_result"
    }
   ],
   "source": [
    "unique_type_count = animals_df[\"type\"].unique()\n",
    "unique_type_count"
   ]
  },
  {
   "cell_type": "code",
   "execution_count": 29,
   "metadata": {},
   "outputs": [
    {
     "data": {
      "text/plain": [
       "2"
      ]
     },
     "execution_count": 29,
     "metadata": {},
     "output_type": "execute_result"
    }
   ],
   "source": [
    "type_count = len(unique_type_count)\n",
    "type_count"
   ]
  },
  {
   "cell_type": "code",
   "execution_count": 30,
   "metadata": {},
   "outputs": [
    {
     "data": {
      "text/plain": [
       "2232"
      ]
     },
     "execution_count": 30,
     "metadata": {},
     "output_type": "execute_result"
    }
   ],
   "source": [
    "unique_id = animals_df[\"id\"].unique()\n",
    "len(unique_id)"
   ]
  },
  {
   "cell_type": "code",
   "execution_count": 33,
   "metadata": {},
   "outputs": [
    {
     "data": {
      "text/plain": [
       "array(['Davon', 'Mack', 'Lahni! DNA tested! ', ..., 'Hilda', 'Erik',\n",
       "       'Moon'], dtype=object)"
      ]
     },
     "execution_count": 33,
     "metadata": {},
     "output_type": "execute_result"
    }
   ],
   "source": [
    "unique_name = animals_df[\"name\"].unique()\n",
    "unique_name"
   ]
  },
  {
   "cell_type": "code",
   "execution_count": 34,
   "metadata": {},
   "outputs": [
    {
     "data": {
      "text/plain": [
       "1914"
      ]
     },
     "execution_count": 34,
     "metadata": {},
     "output_type": "execute_result"
    }
   ],
   "source": [
    "len(unique_name)"
   ]
  },
  {
   "cell_type": "code",
   "execution_count": null,
   "metadata": {},
   "outputs": [],
   "source": []
  }
 ],
 "metadata": {
  "kernelspec": {
   "display_name": "base",
   "language": "python",
   "name": "python3"
  },
  "language_info": {
   "codemirror_mode": {
    "name": "ipython",
    "version": 3
   },
   "file_extension": ".py",
   "mimetype": "text/x-python",
   "name": "python",
   "nbconvert_exporter": "python",
   "pygments_lexer": "ipython3",
   "version": "3.11.5"
  }
 },
 "nbformat": 4,
 "nbformat_minor": 2
}
