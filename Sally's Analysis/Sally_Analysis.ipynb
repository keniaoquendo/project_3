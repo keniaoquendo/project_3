{
 "cells": [
  {
   "cell_type": "code",
   "execution_count": 1,
   "metadata": {},
   "outputs": [],
   "source": [
    "# Dependencies\n",
    "import random\n",
    "import json\n",
    "import requests\n",
    "from pprint import pprint\n",
    "import pandas as pd\n",
    "from pathlib import Path"
   ]
  },
  {
   "cell_type": "code",
   "execution_count": 2,
   "metadata": {},
   "outputs": [],
   "source": [
    "# load and read csv file\n",
    "animals = Path(\"../Resources/project3_animals.csv\")\n",
    "# Read School and Student Data File and store into Pandas DataFrames\n",
    "animals_df = pd.read_csv(animals)"
   ]
  },
  {
   "cell_type": "code",
   "execution_count": 4,
   "metadata": {},
   "outputs": [
    {
     "data": {
      "text/html": [
       "<div>\n",
       "<style scoped>\n",
       "    .dataframe tbody tr th:only-of-type {\n",
       "        vertical-align: middle;\n",
       "    }\n",
       "\n",
       "    .dataframe tbody tr th {\n",
       "        vertical-align: top;\n",
       "    }\n",
       "\n",
       "    .dataframe thead th {\n",
       "        text-align: right;\n",
       "    }\n",
       "</style>\n",
       "<table border=\"1\" class=\"dataframe\">\n",
       "  <thead>\n",
       "    <tr style=\"text-align: right;\">\n",
       "      <th></th>\n",
       "      <th>Unnamed: 0</th>\n",
       "      <th>id</th>\n",
       "      <th>organization_id</th>\n",
       "      <th>name</th>\n",
       "      <th>type</th>\n",
       "      <th>age</th>\n",
       "      <th>gender</th>\n",
       "      <th>size</th>\n",
       "      <th>contact</th>\n",
       "      <th>url</th>\n",
       "    </tr>\n",
       "  </thead>\n",
       "  <tbody>\n",
       "    <tr>\n",
       "      <th>0</th>\n",
       "      <td>0</td>\n",
       "      <td>70490327</td>\n",
       "      <td>TX2305</td>\n",
       "      <td>Davon</td>\n",
       "      <td>Dog</td>\n",
       "      <td>Adult</td>\n",
       "      <td>Male</td>\n",
       "      <td>Large</td>\n",
       "      <td>{'email': 'rescue@throwadogabone.org', 'phone'...</td>\n",
       "      <td>https://www.petfinder.com/dog/davon-70490327/o...</td>\n",
       "    </tr>\n",
       "    <tr>\n",
       "      <th>1</th>\n",
       "      <td>1</td>\n",
       "      <td>70490328</td>\n",
       "      <td>MO486</td>\n",
       "      <td>Mack</td>\n",
       "      <td>Dog</td>\n",
       "      <td>Adult</td>\n",
       "      <td>Female</td>\n",
       "      <td>Extra Large</td>\n",
       "      <td>{'email': 'wonderweimsrescue@gmail.com', 'phon...</td>\n",
       "      <td>https://www.petfinder.com/dog/mack-70490328/mo...</td>\n",
       "    </tr>\n",
       "    <tr>\n",
       "      <th>2</th>\n",
       "      <td>2</td>\n",
       "      <td>70490326</td>\n",
       "      <td>MI812</td>\n",
       "      <td>Lahni! DNA tested!</td>\n",
       "      <td>Dog</td>\n",
       "      <td>Adult</td>\n",
       "      <td>Female</td>\n",
       "      <td>Large</td>\n",
       "      <td>{'email': 'misfitangels@gmail.com', 'phone': '...</td>\n",
       "      <td>https://www.petfinder.com/dog/lahni-dna-tested...</td>\n",
       "    </tr>\n",
       "    <tr>\n",
       "      <th>3</th>\n",
       "      <td>3</td>\n",
       "      <td>70490283</td>\n",
       "      <td>MS214</td>\n",
       "      <td>Jughead Jones</td>\n",
       "      <td>Dog</td>\n",
       "      <td>Baby</td>\n",
       "      <td>Male</td>\n",
       "      <td>Large</td>\n",
       "      <td>{'email': 'myjerichorfb@gmail.com', 'phone': '...</td>\n",
       "      <td>https://www.petfinder.com/dog/jughead-jones-70...</td>\n",
       "    </tr>\n",
       "    <tr>\n",
       "      <th>4</th>\n",
       "      <td>4</td>\n",
       "      <td>70490324</td>\n",
       "      <td>AZ57</td>\n",
       "      <td>Mona</td>\n",
       "      <td>Dog</td>\n",
       "      <td>Young</td>\n",
       "      <td>Female</td>\n",
       "      <td>Large</td>\n",
       "      <td>{'email': 'blackhathumane@gmail.com', 'phone':...</td>\n",
       "      <td>https://www.petfinder.com/dog/mona-70490324/nm...</td>\n",
       "    </tr>\n",
       "  </tbody>\n",
       "</table>\n",
       "</div>"
      ],
      "text/plain": [
       "   Unnamed: 0        id organization_id                 name type    age  \\\n",
       "0           0  70490327          TX2305                Davon  Dog  Adult   \n",
       "1           1  70490328           MO486                 Mack  Dog  Adult   \n",
       "2           2  70490326           MI812  Lahni! DNA tested!   Dog  Adult   \n",
       "3           3  70490283           MS214        Jughead Jones  Dog   Baby   \n",
       "4           4  70490324            AZ57                 Mona  Dog  Young   \n",
       "\n",
       "   gender         size                                            contact  \\\n",
       "0    Male        Large  {'email': 'rescue@throwadogabone.org', 'phone'...   \n",
       "1  Female  Extra Large  {'email': 'wonderweimsrescue@gmail.com', 'phon...   \n",
       "2  Female        Large  {'email': 'misfitangels@gmail.com', 'phone': '...   \n",
       "3    Male        Large  {'email': 'myjerichorfb@gmail.com', 'phone': '...   \n",
       "4  Female        Large  {'email': 'blackhathumane@gmail.com', 'phone':...   \n",
       "\n",
       "                                                 url  \n",
       "0  https://www.petfinder.com/dog/davon-70490327/o...  \n",
       "1  https://www.petfinder.com/dog/mack-70490328/mo...  \n",
       "2  https://www.petfinder.com/dog/lahni-dna-tested...  \n",
       "3  https://www.petfinder.com/dog/jughead-jones-70...  \n",
       "4  https://www.petfinder.com/dog/mona-70490324/nm...  "
      ]
     },
     "execution_count": 4,
     "metadata": {},
     "output_type": "execute_result"
    }
   ],
   "source": [
    "animals_df.head()"
   ]
  },
  {
   "cell_type": "code",
   "execution_count": 6,
   "metadata": {},
   "outputs": [
    {
     "data": {
      "text/plain": [
       "2320"
      ]
     },
     "execution_count": 6,
     "metadata": {},
     "output_type": "execute_result"
    }
   ],
   "source": [
    "len(animals_df)"
   ]
  },
  {
   "cell_type": "code",
   "execution_count": 9,
   "metadata": {},
   "outputs": [
    {
     "data": {
      "text/plain": [
       "651"
      ]
     },
     "execution_count": 9,
     "metadata": {},
     "output_type": "execute_result"
    }
   ],
   "source": [
    "unique_org_count = animals_df[\"organization_id\"].unique()\n",
    "org_count = len(unique_org_count)\n",
    "org_count\n"
   ]
  },
  {
   "cell_type": "code",
   "execution_count": null,
   "metadata": {},
   "outputs": [],
   "source": []
  }
 ],
 "metadata": {
  "kernelspec": {
   "display_name": "base",
   "language": "python",
   "name": "python3"
  },
  "language_info": {
   "codemirror_mode": {
    "name": "ipython",
    "version": 3
   },
   "file_extension": ".py",
   "mimetype": "text/x-python",
   "name": "python",
   "nbconvert_exporter": "python",
   "pygments_lexer": "ipython3",
   "version": "3.11.5"
  }
 },
 "nbformat": 4,
 "nbformat_minor": 2
}
